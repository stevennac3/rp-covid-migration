{
 "cells": [
  {
   "cell_type": "markdown",
   "metadata": {},
   "source": [
    "## Produce daily Origin-Destiniation trip matrix for NYC resident boroughs to NYC metro region municipalities\n",
    "\n",
    "##### Output is daily csv o-d matrices, O = NYC total or NYC borough and D = NYC metro region municipality (county subdivision - census designated place geography)"
   ]
  },
  {
   "cell_type": "code",
   "execution_count": 1,
   "metadata": {},
   "outputs": [],
   "source": [
    "import pandas as pd\n",
    "import numpy as np\n",
    "import s3fs\n",
    "import os\n",
    "import time"
   ]
  },
  {
   "cell_type": "code",
   "execution_count": 2,
   "metadata": {},
   "outputs": [],
   "source": [
    "from geo import stco,sub\n",
    "from safegraph_py_functions import safegraph_py_functions as sgpy"
   ]
  },
  {
   "cell_type": "code",
   "execution_count": 3,
   "metadata": {},
   "outputs": [],
   "source": [
    "%load_ext dotenv\n",
    "%dotenv\n",
    "myAccessKey = os.getenv('myAccessKey')\n",
    "mySecretKey = os.getenv('mySecretKey')\n",
    "\n",
    "start = time.time()"
   ]
  },
  {
   "cell_type": "code",
   "execution_count": 4,
   "metadata": {
    "scrolled": true
   },
   "outputs": [],
   "source": [
    "pd.set_option('display.max_columns', None)\n",
    "pd.set_option('display.max_rows', None)"
   ]
  },
  {
   "cell_type": "code",
   "execution_count": 5,
   "metadata": {},
   "outputs": [],
   "source": [
    "# read nyc origin cbgs\n",
    "cbg_nyc = pd.read_csv(f'../data/nyc_cbg.csv')\n",
    "dest_subpl = pd.read_excel(f'../data/31cr_cbg-subpl_xwalk.xlsx')"
   ]
  },
  {
   "cell_type": "code",
   "execution_count": 6,
   "metadata": {},
   "outputs": [],
   "source": [
    "dest_subpl['dest_cbg'] = dest_subpl['dest_cbg'].astype(str)\n",
    "dest_subpl['dest_cbg'] = dest_subpl['dest_cbg'].str.zfill(12)\n",
    "dest_subpl['dest_cbg'] = dest_subpl['dest_cbg'].astype(str)"
   ]
  },
  {
   "cell_type": "code",
   "execution_count": 7,
   "metadata": {},
   "outputs": [],
   "source": [
    "# specify the SG key and secret\n",
    "fs = s3fs.S3FileSystem(profile=\"safegraphws\", key=myAccessKey, secret=mySecretKey, client_kwargs={'endpoint_url': 'https://s3.wasabisys.com', 'region_name':'us-east-1'})"
   ]
  },
  {
   "cell_type": "code",
   "execution_count": 8,
   "metadata": {},
   "outputs": [],
   "source": [
    "# set date variables, in this case, a test month for 2 different years\n",
    "y = \"2020\"\n",
    "y0 = \"2019\"\n",
    "\n",
    "monthList =[\"01\",\"02\",\"03\",\"04\",\"05\",\"06\",\"07\",\"08\",\"09\",\"10\",\"11\",\"12\"]\n",
    "dayNumList =[31, 28, 31, 30, 31, 30, 31,31,30,31,30,31] \n",
    "dayList =[\"01\",\"02\",\"03\",\"04\",\"05\",\"06\",\"07\",\"08\",\"09\",\"10\",\"11\",\"12\",\"13\",\"14\",\"15\",\"16\",\"17\",\"18\",\"19\",\"20\",\"21\",\"22\",\"23\",\"24\",\"25\",\"26\",\"27\",\"28\",\"29\",\"30\",\"31\"]"
   ]
  },
  {
   "cell_type": "code",
   "execution_count": 9,
   "metadata": {},
   "outputs": [
    {
     "name": "stdout",
     "output_type": "stream",
     "text": [
      "2019-09-01\n",
      "2019-09-02\n",
      "2019-09-03\n",
      "2019-09-04\n",
      "2019-09-05\n",
      "2019-09-06\n",
      "2019-09-07\n",
      "2019-09-08\n",
      "2019-09-09\n",
      "2019-09-10\n",
      "2019-09-11\n",
      "2019-09-12\n",
      "2019-09-13\n",
      "2019-09-14\n",
      "2019-09-15\n",
      "2019-09-16\n",
      "2019-09-17\n",
      "2019-09-18\n",
      "2019-09-19\n",
      "2019-09-20\n",
      "2019-09-21\n",
      "2019-09-22\n",
      "2019-09-23\n",
      "2019-09-24\n",
      "2019-09-25\n",
      "2019-09-26\n",
      "2019-09-27\n",
      "2019-09-28\n",
      "2019-09-29\n",
      "2019-09-30\n",
      "2019-10-01\n",
      "2019-10-02\n",
      "2019-10-03\n",
      "2019-10-04\n",
      "2019-10-05\n",
      "2019-10-06\n",
      "2019-10-07\n",
      "2019-10-08\n",
      "2019-10-09\n",
      "2019-10-10\n",
      "2019-10-11\n",
      "2019-10-12\n",
      "2019-10-13\n",
      "2019-10-14\n",
      "2019-10-15\n",
      "2019-10-16\n",
      "2019-10-17\n",
      "2019-10-18\n",
      "2019-10-19\n",
      "2019-10-20\n",
      "2019-10-21\n",
      "2019-10-22\n",
      "2019-10-23\n",
      "2019-10-24\n",
      "2019-10-25\n",
      "2019-10-26\n",
      "2019-10-27\n",
      "2019-10-28\n",
      "2019-10-29\n",
      "2019-10-30\n",
      "2019-10-31\n",
      "2019-11-01\n",
      "2019-11-02\n",
      "2019-11-03\n",
      "2019-11-04\n",
      "2019-11-05\n",
      "2019-11-06\n",
      "2019-11-07\n",
      "2019-11-08\n",
      "2019-11-09\n",
      "2019-11-10\n",
      "2019-11-11\n",
      "2019-11-12\n",
      "2019-11-13\n",
      "2019-11-14\n",
      "2019-11-15\n",
      "2019-11-16\n",
      "2019-11-17\n",
      "2019-11-18\n",
      "2019-11-19\n",
      "2019-11-20\n",
      "2019-11-21\n",
      "2019-11-22\n",
      "2019-11-23\n",
      "2019-11-24\n",
      "2019-11-25\n",
      "2019-11-26\n",
      "2019-11-27\n",
      "2019-11-28\n",
      "2019-11-29\n",
      "2019-11-30\n",
      "2019-12-01\n",
      "2019-12-02\n",
      "2019-12-03\n",
      "2019-12-04\n",
      "2019-12-05\n",
      "2019-12-06\n",
      "2019-12-07\n",
      "2019-12-08\n",
      "2019-12-09\n",
      "2019-12-10\n",
      "2019-12-11\n",
      "2019-12-12\n",
      "2019-12-13\n",
      "2019-12-14\n",
      "2019-12-15\n",
      "2019-12-16\n",
      "2019-12-17\n",
      "2019-12-18\n",
      "2019-12-19\n",
      "2019-12-20\n",
      "2019-12-21\n",
      "2019-12-22\n",
      "2019-12-23\n",
      "2019-12-24\n",
      "2019-12-25\n",
      "2019-12-26\n",
      "2019-12-27\n",
      "2019-12-28\n",
      "2019-12-29\n",
      "2019-12-30\n",
      "2019-12-31\n"
     ]
    }
   ],
   "source": [
    "## Test month - individual days for year-over-year comparison\n",
    "\n",
    "frames = []\n",
    "for m in range(0,12):\n",
    "    for d in range(0,dayNumList[m]):\n",
    "        with fs.open(f'sg-c19-response/social-distancing/v2/{y0}/{monthList[m]}/{dayList[d]}/{y0}-{monthList[m]}-{dayList[d]}-social-distancing.csv.gz','rb') as f:\n",
    "            print(f'{y0}-{monthList[m]}-{dayList[d]}')\n",
    "            # read SG's file\n",
    "            df = pd.read_csv(f, escapechar='\\\\', compression='gzip')\n",
    "            \n",
    "            # filter NYC's Origin CBGs\n",
    "            df = pd.merge(cbg_nyc, df, left_on=\"orig_cbg\", right_on=\"origin_census_block_group\", how=\"inner\")\n",
    "\n",
    "            #unpack json destination cbgs\n",
    "            df = sgpy.unpack_json_and_merge(df, json_column='destination_cbgs', key_col_name='destination_cbg', value_col_name='dest_cbg_count')\n",
    "            \n",
    "            #select destinations in the region only & code in subplace ID\n",
    "            df = pd.merge(dest_subpl,df,left_on=\"dest_cbg\", right_on=\"destination_cbg\", how=\"inner\")\n",
    "            \n",
    "            ##Make new columns\n",
    "            df['orig_cbg'] = df['orig_cbg'].apply(str) #clean origin cbg\n",
    "            df['date_y-m-d'] = df['date_range_start'].str[:10]\n",
    "            \n",
    "            #id 31cr counties and all others outside\n",
    "            df['dest_stco_reg'] = df['destination_cbg'].str[:5]\n",
    "            df.loc[~df['dest_stco_reg'].isin(stco),'dest_stco_reg'] = 'O31CR' \n",
    "            df['dest_sub'] = df['dest_stco_reg'].map(sub).fillna('O31CR')\n",
    "             \n",
    "            #Make new table with select columns\n",
    "            dff = df[['date_y-m-d','orig_stco','dest_sub','dest_subpl','dest_cbg_count']]\n",
    "            frames.append(dff)\n",
    "            "
   ]
  },
  {
   "cell_type": "code",
   "execution_count": 10,
   "metadata": {},
   "outputs": [],
   "source": [
    "df_dest = pd.concat(frames)"
   ]
  },
  {
   "cell_type": "code",
   "execution_count": 11,
   "metadata": {},
   "outputs": [],
   "source": [
    "df_dest_bor = pd.pivot_table(df_dest,values=['dest_cbg_count'],index=['date_y-m-d','orig_stco'],columns=['dest_sub','dest_subpl'],aggfunc=np.sum,\\\n",
    "                         fill_value=0,margins=True)"
   ]
  },
  {
   "cell_type": "code",
   "execution_count": 12,
   "metadata": {},
   "outputs": [],
   "source": [
    "df_dest_nyc = pd.pivot_table(df_dest,values=['dest_cbg_count'],index=['date_y-m-d'],columns=['dest_sub','dest_subpl'],aggfunc=np.sum,\\\n",
    "                         fill_value=0,margins=True)"
   ]
  },
  {
   "cell_type": "code",
   "execution_count": 13,
   "metadata": {},
   "outputs": [],
   "source": [
    "df_dest_bor.to_csv(f'output/Destinations/dest_coxsubpl_daily_09-12-20{y0}.csv')\n",
    "df_dest_nyc.to_csv(f'output/Destinations/dest_nycxsubpl_daily_09-12-20{y0}.csv')"
   ]
  },
  {
   "cell_type": "markdown",
   "metadata": {},
   "source": [
    "### 2020"
   ]
  },
  {
   "cell_type": "code",
   "execution_count": 14,
   "metadata": {},
   "outputs": [],
   "source": [
    "#adjusted for February leap year\n",
    "dayNumList =[31, 29, 31, 30, 31, 30, 31,31,30,31,30,31] "
   ]
  },
  {
   "cell_type": "code",
   "execution_count": 15,
   "metadata": {},
   "outputs": [
    {
     "name": "stdout",
     "output_type": "stream",
     "text": [
      "2020-09-01\n",
      "2020-09-02\n",
      "2020-09-03\n",
      "2020-09-04\n",
      "2020-09-05\n",
      "2020-09-06\n",
      "2020-09-07\n",
      "2020-09-08\n",
      "2020-09-09\n",
      "2020-09-10\n",
      "2020-09-11\n",
      "2020-09-12\n",
      "2020-09-13\n",
      "2020-09-14\n",
      "2020-09-15\n",
      "2020-09-16\n",
      "2020-09-17\n",
      "2020-09-18\n",
      "2020-09-19\n",
      "2020-09-20\n",
      "2020-09-21\n",
      "2020-09-22\n",
      "2020-09-23\n",
      "2020-09-24\n",
      "2020-09-25\n",
      "2020-09-26\n",
      "2020-09-27\n",
      "2020-09-28\n",
      "2020-09-29\n",
      "2020-09-30\n"
     ]
    }
   ],
   "source": [
    "## September only\n",
    "frames = []\n",
    "for m in range(0,9):\n",
    "    for d in range(0,dayNumList[m]):\n",
    "        with fs.open(f'sg-c19-response/social-distancing/v2/{y}/{monthList[m]}/{dayList[d]}/{y}-{monthList[m]}-{dayList[d]}-social-distancing.csv.gz','rb') as f:\n",
    "            print(f'{y}-{monthList[m]}-{dayList[d]}')\n",
    "            # read SG's file\n",
    "            df = pd.read_csv(f, escapechar='\\\\', compression='gzip')\n",
    "            \n",
    "            # filter NYC's Origin CBGs\n",
    "            df = pd.merge(cbg_nyc, df, left_on=\"orig_cbg\", right_on=\"origin_census_block_group\", how=\"inner\")\n",
    "\n",
    "            #unpack json destination cbgs\n",
    "            df = sgpy.unpack_json_and_merge(df, json_column='destination_cbgs', key_col_name='destination_cbg', value_col_name='dest_cbg_count')\n",
    "            \n",
    "            #select destinations in the region only & code in subplace ID\n",
    "            df = pd.merge(dest_subpl,df,left_on=\"dest_cbg\", right_on=\"destination_cbg\", how=\"inner\")\n",
    "            \n",
    "            ##Make new columns\n",
    "            df['orig_cbg'] = df['orig_cbg'].apply(str) #clean origin cbg\n",
    "            df['date_y-m-d'] = df['date_range_start'].str[:10]\n",
    "            \n",
    "            #id 31cr counties and all others outside\n",
    "            df['dest_stco_reg'] = df['destination_cbg'].str[:5]\n",
    "            df.loc[~df['dest_stco_reg'].isin(stco),'dest_stco_reg'] = 'O31CR' \n",
    "            df['dest_sub'] = df['dest_stco_reg'].map(sub).fillna('O31CR')\n",
    "             \n",
    "            #Make new table with select columns\n",
    "            dff = df[['date_y-m-d','orig_stco','dest_sub','dest_subpl','dest_cbg_count']]\n",
    "            frames.append(dff)"
   ]
  },
  {
   "cell_type": "code",
   "execution_count": 16,
   "metadata": {},
   "outputs": [],
   "source": [
    "df_dest = pd.concat(frames)"
   ]
  },
  {
   "cell_type": "code",
   "execution_count": 17,
   "metadata": {},
   "outputs": [],
   "source": [
    "df_dest_bor = pd.pivot_table(df_dest,values=['dest_cbg_count'],index=['date_y-m-d','orig_stco'],columns=['dest_sub','dest_subpl'],aggfunc=np.sum,\\\n",
    "                         fill_value=0,margins=True)"
   ]
  },
  {
   "cell_type": "code",
   "execution_count": 18,
   "metadata": {},
   "outputs": [],
   "source": [
    "df_dest_nyc = pd.pivot_table(df_dest,values=['dest_cbg_count'],index=['date_y-m-d'],columns=['dest_sub','dest_subpl'],aggfunc=np.sum,\\\n",
    "                         fill_value=0,margins=True)"
   ]
  },
  {
   "cell_type": "code",
   "execution_count": 19,
   "metadata": {},
   "outputs": [],
   "source": [
    "df_dest_bor.to_csv(f'output/Destinations/dest_coxsubpl_daily_09-20{y}.csv')\n",
    "df_dest_nyc.to_csv(f'output/Destinations/dest_nycxsubpl_daily_09-20{y}.csv')"
   ]
  },
  {
   "cell_type": "code",
   "execution_count": 20,
   "metadata": {},
   "outputs": [
    {
     "name": "stdout",
     "output_type": "stream",
     "text": [
      "Run time - 9877.774066925049 seconds\n"
     ]
    }
   ],
   "source": [
    "end = time.time()\n",
    "elapsed = end - start\n",
    "print(f'Run time - {elapsed} seconds')"
   ]
  }
 ],
 "metadata": {
  "kernelspec": {
   "display_name": "Python 3",
   "language": "python",
   "name": "python3"
  },
  "language_info": {
   "codemirror_mode": {
    "name": "ipython",
    "version": 3
   },
   "file_extension": ".py",
   "mimetype": "text/x-python",
   "name": "python",
   "nbconvert_exporter": "python",
   "pygments_lexer": "ipython3",
   "version": "3.8.3"
  }
 },
 "nbformat": 4,
 "nbformat_minor": 2
}
