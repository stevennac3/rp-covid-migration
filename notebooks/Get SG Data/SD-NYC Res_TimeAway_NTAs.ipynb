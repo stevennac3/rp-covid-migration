{
 "cells": [
  {
   "cell_type": "markdown",
   "metadata": {},
   "source": [
    "## NYC NTA table for bucketed time away from home by day\n",
    "##### Output is large Excel table with all NTAs by day, total devices counted for bucketed_time_away, devices away for more than >1321 mins (i.e. 22 hours), devices away for < 20 min, and calculated share of devices away from home for >1321 min of devices counted in bucketed time away"
   ]
  },
  {
   "cell_type": "code",
   "execution_count": 1,
   "metadata": {},
   "outputs": [],
   "source": [
    "import pandas as pd\n",
    "import numpy as np\n",
    "import s3fs\n",
    "import os\n",
    "import time"
   ]
  },
  {
   "cell_type": "code",
   "execution_count": 2,
   "metadata": {},
   "outputs": [],
   "source": [
    "from geo import stco,sub\n",
    "from safegraph_py_functions import safegraph_py_functions as sgpy"
   ]
  },
  {
   "cell_type": "code",
   "execution_count": 3,
   "metadata": {},
   "outputs": [],
   "source": [
    "%load_ext dotenv\n",
    "%dotenv\n",
    "myAccessKey = os.getenv('myAccessKey')\n",
    "mySecretKey = os.getenv('mySecretKey')\n",
    "\n",
    "start = time.time()"
   ]
  },
  {
   "cell_type": "code",
   "execution_count": 4,
   "metadata": {
    "scrolled": true
   },
   "outputs": [],
   "source": [
    "pd.set_option('display.max_columns', None)\n",
    "pd.set_option('display.max_rows', None)"
   ]
  },
  {
   "cell_type": "code",
   "execution_count": 5,
   "metadata": {},
   "outputs": [],
   "source": [
    "# read nyc origin cbgs & geoxwalk doc\n",
    "cbg_nyc = pd.read_csv(f'../data/nyc_cbg.csv')\n",
    "nta_nyc = pd.read_excel(f'../data/nyc_geo_xwalk.xlsx')"
   ]
  },
  {
   "cell_type": "code",
   "execution_count": 6,
   "metadata": {},
   "outputs": [],
   "source": [
    "# specify the SG key and secret\n",
    "fs = s3fs.S3FileSystem(profile=\"safegraphws\", key=myAccessKey, secret=mySecretKey, client_kwargs={'endpoint_url': 'https://s3.wasabisys.com', 'region_name':'us-east-1'})"
   ]
  },
  {
   "cell_type": "markdown",
   "metadata": {},
   "source": [
    "## RUNNING FOR 2019 ONLY"
   ]
  },
  {
   "cell_type": "code",
   "execution_count": 7,
   "metadata": {},
   "outputs": [],
   "source": [
    "y = \"2020\"\n",
    "#years = [\"2019\",\"2020\"]\n",
    "\n",
    "monthList =[\"01\",\"02\",\"03\",\"04\",\"05\",\"06\",\"07\",\"08\",\"09\",\"10\",\"11\",\"12\"]\n",
    "dayNumList =[31, 28, 31, 30, 31, 30, 31,31,30,31,30,31] \n",
    "dayList =[\"01\",\"02\",\"03\",\"04\",\"05\",\"06\",\"07\",\"08\",\"09\",\"10\",\"11\",\"12\",\"13\",\"14\",\"15\",\"16\",\"17\",\"18\",\"19\",\"20\",\"21\",\"22\",\"23\",\"24\",\"25\",\"26\",\"27\",\"28\",\"29\",\"30\",\"31\"]"
   ]
  },
  {
   "cell_type": "code",
   "execution_count": 8,
   "metadata": {},
   "outputs": [],
   "source": [
    "#Run an iteration to unpack the bucketed time away from home"
   ]
  },
  {
   "cell_type": "code",
   "execution_count": 9,
   "metadata": {},
   "outputs": [
    {
     "name": "stdout",
     "output_type": "stream",
     "text": [
      "2020-09-01\n",
      "2020-09-02\n",
      "2020-09-03\n",
      "2020-09-04\n",
      "2020-09-05\n",
      "2020-09-06\n",
      "2020-09-07\n",
      "2020-09-08\n",
      "2020-09-09\n",
      "2020-09-10\n",
      "2020-09-11\n",
      "2020-09-12\n",
      "2020-09-13\n",
      "2020-09-14\n",
      "2020-09-15\n",
      "2020-09-16\n",
      "2020-09-17\n",
      "2020-09-18\n",
      "2020-09-19\n",
      "2020-09-20\n",
      "2020-09-21\n",
      "2020-09-22\n",
      "2020-09-23\n",
      "2020-09-24\n",
      "2020-09-25\n",
      "2020-09-26\n",
      "2020-09-27\n",
      "2020-09-28\n",
      "2020-09-29\n",
      "2020-09-30\n"
     ]
    }
   ],
   "source": [
    "frames = [] \n",
    "for m in range(8,9):\n",
    "    for d in range(0,dayNumList[m]):\n",
    "        with fs.open(f'sg-c19-response/social-distancing/v2/{y}/{monthList[m]}/{dayList[d]}/{y}-{monthList[m]}-{dayList[d]}-social-distancing.csv.gz','rb') as f:\n",
    "            print(f'{y}-{monthList[m]}-{dayList[d]}')\n",
    "            # read SG's file\n",
    "            df = pd.read_csv(f, escapechar='\\\\', compression='gzip')\n",
    "            # filter NYC's Origin CBGs\n",
    "            df = pd.merge(nta_nyc, df, left_on=\"orig_cbg\", right_on=\"origin_census_block_group\", how=\"inner\")\n",
    "\n",
    "            #unpack json bucketed time away from home\n",
    "            df = sgpy.unpack_json_and_merge(df, json_column='bucketed_away_from_home_time', key_col_name='away_from_home_time', value_col_name='away_count')\n",
    "            \n",
    "            ##Make new columns\n",
    "            df['date_y-m-d'] = df['date_range_start'].str[:10]\n",
    "            #Make new table with select columns\n",
    "            dff = df[['date_y-m-d','orig_nta','away_from_home_time','away_count']]\n",
    "            frames.append(dff) "
   ]
  },
  {
   "cell_type": "code",
   "execution_count": 10,
   "metadata": {
    "scrolled": true
   },
   "outputs": [],
   "source": [
    "df_away = pd.concat(frames)\n",
    "df_away = pd.pivot_table(df_away,values=['away_count'],index=['date_y-m-d','orig_nta'],columns=['away_from_home_time'],aggfunc=np.sum,fill_value=0,margins=True)"
   ]
  },
  {
   "cell_type": "code",
   "execution_count": 11,
   "metadata": {},
   "outputs": [],
   "source": [
    "df_away.columns = df_away.columns.get_level_values(1)\n",
    "df_away = df_away.reset_index()"
   ]
  },
  {
   "cell_type": "code",
   "execution_count": 12,
   "metadata": {},
   "outputs": [
    {
     "name": "stderr",
     "output_type": "stream",
     "text": [
      "<ipython-input-12-1d532ab7530b>:2: SettingWithCopyWarning: \n",
      "A value is trying to be set on a copy of a slice from a DataFrame.\n",
      "Try using .loc[row_indexer,col_indexer] = value instead\n",
      "\n",
      "See the caveats in the documentation: https://pandas.pydata.org/pandas-docs/stable/user_guide/indexing.html#returning-a-view-versus-a-copy\n",
      "  df_away_reduced['pct_away_13211440'] = df_away_reduced.loc[:,'1321-1440']/df_away_reduced.loc[:,'All']\n"
     ]
    }
   ],
   "source": [
    "df_away_reduced = df_away[['date_y-m-d', 'orig_nta','All','1321-1440','<20']]\n",
    "df_away_reduced['pct_away_13211440'] = df_away_reduced.loc[:,'1321-1440']/df_away_reduced.loc[:,'All']"
   ]
  },
  {
   "cell_type": "code",
   "execution_count": 13,
   "metadata": {
    "scrolled": true
   },
   "outputs": [],
   "source": [
    "df_away_reduced.to_excel(f'output/Time Away/2020_09_time-away-reduced.xlsx')"
   ]
  },
  {
   "cell_type": "code",
   "execution_count": 14,
   "metadata": {
    "scrolled": true
   },
   "outputs": [
    {
     "name": "stdout",
     "output_type": "stream",
     "text": [
      "Run time - 554.9079279899597 seconds\n"
     ]
    }
   ],
   "source": [
    "end = time.time()\n",
    "elapsed = end - start\n",
    "print(f'Run time - {elapsed} seconds')"
   ]
  },
  {
   "cell_type": "code",
   "execution_count": 15,
   "metadata": {},
   "outputs": [
    {
     "data": {
      "text/html": [
       "<div>\n",
       "<style scoped>\n",
       "    .dataframe tbody tr th:only-of-type {\n",
       "        vertical-align: middle;\n",
       "    }\n",
       "\n",
       "    .dataframe tbody tr th {\n",
       "        vertical-align: top;\n",
       "    }\n",
       "\n",
       "    .dataframe thead th {\n",
       "        text-align: right;\n",
       "    }\n",
       "</style>\n",
       "<table border=\"1\" class=\"dataframe\">\n",
       "  <thead>\n",
       "    <tr style=\"text-align: right;\">\n",
       "      <th>away_from_home_time</th>\n",
       "      <th>date_y-m-d</th>\n",
       "      <th>orig_nta</th>\n",
       "      <th>All</th>\n",
       "      <th>1321-1440</th>\n",
       "      <th>&lt;20</th>\n",
       "      <th>pct_away_13211440</th>\n",
       "    </tr>\n",
       "  </thead>\n",
       "  <tbody>\n",
       "    <tr>\n",
       "      <th>0</th>\n",
       "      <td>2020-09-01</td>\n",
       "      <td>BK09</td>\n",
       "      <td>283</td>\n",
       "      <td>8</td>\n",
       "      <td>122</td>\n",
       "      <td>0.028269</td>\n",
       "    </tr>\n",
       "    <tr>\n",
       "      <th>1</th>\n",
       "      <td>2020-09-01</td>\n",
       "      <td>BK17</td>\n",
       "      <td>4187</td>\n",
       "      <td>68</td>\n",
       "      <td>1619</td>\n",
       "      <td>0.016241</td>\n",
       "    </tr>\n",
       "    <tr>\n",
       "      <th>2</th>\n",
       "      <td>2020-09-01</td>\n",
       "      <td>BK19</td>\n",
       "      <td>1816</td>\n",
       "      <td>20</td>\n",
       "      <td>751</td>\n",
       "      <td>0.011013</td>\n",
       "    </tr>\n",
       "    <tr>\n",
       "      <th>3</th>\n",
       "      <td>2020-09-01</td>\n",
       "      <td>BK21</td>\n",
       "      <td>1646</td>\n",
       "      <td>42</td>\n",
       "      <td>648</td>\n",
       "      <td>0.025516</td>\n",
       "    </tr>\n",
       "    <tr>\n",
       "      <th>4</th>\n",
       "      <td>2020-09-01</td>\n",
       "      <td>BK23</td>\n",
       "      <td>781</td>\n",
       "      <td>20</td>\n",
       "      <td>285</td>\n",
       "      <td>0.025608</td>\n",
       "    </tr>\n",
       "    <tr>\n",
       "      <th>5</th>\n",
       "      <td>2020-09-01</td>\n",
       "      <td>BK25</td>\n",
       "      <td>1815</td>\n",
       "      <td>18</td>\n",
       "      <td>684</td>\n",
       "      <td>0.009917</td>\n",
       "    </tr>\n",
       "    <tr>\n",
       "      <th>6</th>\n",
       "      <td>2020-09-01</td>\n",
       "      <td>BK26</td>\n",
       "      <td>1500</td>\n",
       "      <td>32</td>\n",
       "      <td>644</td>\n",
       "      <td>0.021333</td>\n",
       "    </tr>\n",
       "    <tr>\n",
       "      <th>7</th>\n",
       "      <td>2020-09-01</td>\n",
       "      <td>BK27</td>\n",
       "      <td>2141</td>\n",
       "      <td>35</td>\n",
       "      <td>890</td>\n",
       "      <td>0.016348</td>\n",
       "    </tr>\n",
       "    <tr>\n",
       "      <th>8</th>\n",
       "      <td>2020-09-01</td>\n",
       "      <td>BK28</td>\n",
       "      <td>4454</td>\n",
       "      <td>72</td>\n",
       "      <td>2079</td>\n",
       "      <td>0.016165</td>\n",
       "    </tr>\n",
       "    <tr>\n",
       "      <th>9</th>\n",
       "      <td>2020-09-01</td>\n",
       "      <td>BK29</td>\n",
       "      <td>3120</td>\n",
       "      <td>69</td>\n",
       "      <td>1422</td>\n",
       "      <td>0.022115</td>\n",
       "    </tr>\n",
       "    <tr>\n",
       "      <th>10</th>\n",
       "      <td>2020-09-01</td>\n",
       "      <td>BK30</td>\n",
       "      <td>1853</td>\n",
       "      <td>55</td>\n",
       "      <td>812</td>\n",
       "      <td>0.029682</td>\n",
       "    </tr>\n",
       "    <tr>\n",
       "      <th>11</th>\n",
       "      <td>2020-09-01</td>\n",
       "      <td>BK31</td>\n",
       "      <td>4192</td>\n",
       "      <td>74</td>\n",
       "      <td>1827</td>\n",
       "      <td>0.017653</td>\n",
       "    </tr>\n",
       "    <tr>\n",
       "      <th>12</th>\n",
       "      <td>2020-09-01</td>\n",
       "      <td>BK32</td>\n",
       "      <td>1446</td>\n",
       "      <td>27</td>\n",
       "      <td>637</td>\n",
       "      <td>0.018672</td>\n",
       "    </tr>\n",
       "    <tr>\n",
       "      <th>13</th>\n",
       "      <td>2020-09-01</td>\n",
       "      <td>BK33</td>\n",
       "      <td>1001</td>\n",
       "      <td>22</td>\n",
       "      <td>370</td>\n",
       "      <td>0.021978</td>\n",
       "    </tr>\n",
       "    <tr>\n",
       "      <th>14</th>\n",
       "      <td>2020-09-01</td>\n",
       "      <td>BK34</td>\n",
       "      <td>2031</td>\n",
       "      <td>40</td>\n",
       "      <td>1100</td>\n",
       "      <td>0.019695</td>\n",
       "    </tr>\n",
       "    <tr>\n",
       "      <th>15</th>\n",
       "      <td>2020-09-01</td>\n",
       "      <td>BK35</td>\n",
       "      <td>2423</td>\n",
       "      <td>41</td>\n",
       "      <td>1069</td>\n",
       "      <td>0.016921</td>\n",
       "    </tr>\n",
       "    <tr>\n",
       "      <th>16</th>\n",
       "      <td>2020-09-01</td>\n",
       "      <td>BK37</td>\n",
       "      <td>1453</td>\n",
       "      <td>38</td>\n",
       "      <td>555</td>\n",
       "      <td>0.026153</td>\n",
       "    </tr>\n",
       "    <tr>\n",
       "      <th>17</th>\n",
       "      <td>2020-09-01</td>\n",
       "      <td>BK38</td>\n",
       "      <td>1372</td>\n",
       "      <td>45</td>\n",
       "      <td>527</td>\n",
       "      <td>0.032799</td>\n",
       "    </tr>\n",
       "    <tr>\n",
       "      <th>18</th>\n",
       "      <td>2020-09-01</td>\n",
       "      <td>BK40</td>\n",
       "      <td>537</td>\n",
       "      <td>26</td>\n",
       "      <td>237</td>\n",
       "      <td>0.048417</td>\n",
       "    </tr>\n",
       "    <tr>\n",
       "      <th>19</th>\n",
       "      <td>2020-09-01</td>\n",
       "      <td>BK41</td>\n",
       "      <td>1535</td>\n",
       "      <td>28</td>\n",
       "      <td>698</td>\n",
       "      <td>0.018241</td>\n",
       "    </tr>\n",
       "  </tbody>\n",
       "</table>\n",
       "</div>"
      ],
      "text/plain": [
       "away_from_home_time  date_y-m-d orig_nta   All  1321-1440   <20  \\\n",
       "0                    2020-09-01     BK09   283          8   122   \n",
       "1                    2020-09-01     BK17  4187         68  1619   \n",
       "2                    2020-09-01     BK19  1816         20   751   \n",
       "3                    2020-09-01     BK21  1646         42   648   \n",
       "4                    2020-09-01     BK23   781         20   285   \n",
       "5                    2020-09-01     BK25  1815         18   684   \n",
       "6                    2020-09-01     BK26  1500         32   644   \n",
       "7                    2020-09-01     BK27  2141         35   890   \n",
       "8                    2020-09-01     BK28  4454         72  2079   \n",
       "9                    2020-09-01     BK29  3120         69  1422   \n",
       "10                   2020-09-01     BK30  1853         55   812   \n",
       "11                   2020-09-01     BK31  4192         74  1827   \n",
       "12                   2020-09-01     BK32  1446         27   637   \n",
       "13                   2020-09-01     BK33  1001         22   370   \n",
       "14                   2020-09-01     BK34  2031         40  1100   \n",
       "15                   2020-09-01     BK35  2423         41  1069   \n",
       "16                   2020-09-01     BK37  1453         38   555   \n",
       "17                   2020-09-01     BK38  1372         45   527   \n",
       "18                   2020-09-01     BK40   537         26   237   \n",
       "19                   2020-09-01     BK41  1535         28   698   \n",
       "\n",
       "away_from_home_time  pct_away_13211440  \n",
       "0                             0.028269  \n",
       "1                             0.016241  \n",
       "2                             0.011013  \n",
       "3                             0.025516  \n",
       "4                             0.025608  \n",
       "5                             0.009917  \n",
       "6                             0.021333  \n",
       "7                             0.016348  \n",
       "8                             0.016165  \n",
       "9                             0.022115  \n",
       "10                            0.029682  \n",
       "11                            0.017653  \n",
       "12                            0.018672  \n",
       "13                            0.021978  \n",
       "14                            0.019695  \n",
       "15                            0.016921  \n",
       "16                            0.026153  \n",
       "17                            0.032799  \n",
       "18                            0.048417  \n",
       "19                            0.018241  "
      ]
     },
     "execution_count": 15,
     "metadata": {},
     "output_type": "execute_result"
    }
   ],
   "source": [
    "df_away_reduced.head(20)"
   ]
  },
  {
   "cell_type": "code",
   "execution_count": null,
   "metadata": {},
   "outputs": [],
   "source": []
  }
 ],
 "metadata": {
  "kernelspec": {
   "display_name": "Python 3",
   "language": "python",
   "name": "python3"
  },
  "language_info": {
   "codemirror_mode": {
    "name": "ipython",
    "version": 3
   },
   "file_extension": ".py",
   "mimetype": "text/x-python",
   "name": "python",
   "nbconvert_exporter": "python",
   "pygments_lexer": "ipython3",
   "version": "3.8.3"
  }
 },
 "nbformat": 4,
 "nbformat_minor": 2
}
