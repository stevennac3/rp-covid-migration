{
 "cells": [
  {
   "cell_type": "code",
   "execution_count": 1,
   "metadata": {},
   "outputs": [
    {
     "data": {
      "text/html": [
       "<style>.container { width:88% !important; }</style>"
      ],
      "text/plain": [
       "<IPython.core.display.HTML object>"
      ]
     },
     "metadata": {},
     "output_type": "display_data"
    }
   ],
   "source": [
    "# make display wider\n",
    "from IPython.core.display import display, HTML\n",
    "display(HTML(\"<style>.container { width:88% !important; }</style>\"))"
   ]
  },
  {
   "cell_type": "code",
   "execution_count": 2,
   "metadata": {},
   "outputs": [],
   "source": [
    "# read in packages\n",
    "%matplotlib inline\n",
    "import pandas as pd\n",
    "import json\n",
    "import geopandas as gpd\n",
    "import numpy as np\n",
    "from shapely import wkt\n",
    "import os\n",
    "from cartoframes.auth import Credentials, set_default_credentials # unsure of exact difference\n",
    "from cartoframes.data.services import Geocoding, Isolines # these may not be needed\n",
    "from cartoframes.data.observatory import Enrichment\n",
    "from cartoframes.viz import Map, Layer, widget, basemaps, color_continuous_style, size_continuous_style, animation_style, time_series_widget# to create bubbles\n",
    "from cartoframes.viz.widgets import animation_widget"
   ]
  },
  {
   "cell_type": "code",
   "execution_count": null,
   "metadata": {},
   "outputs": [],
   "source": [
    "# allow max rows and colums to be displayed\n",
    "pd.set_option('display.max_columns', None)\n",
    "pd.set_option('display.max_rows', None)\n",
    "os.chdir(r'C:\\Users\\steve\\GitHub\\rp-covid-migration')"
   ]
  },
  {
   "cell_type": "code",
   "execution_count": null,
   "metadata": {},
   "outputs": [],
   "source": [
    "# connect to carto authorization using credentials\n",
    "username = os.environ.get('Carto_user')\n",
    "pw = os.environ.get('Carto_Auth')\n",
    "credentials = Credentials(username = 'dcpregional', api_key = pw)\n",
    "credentials.save('carto_creds.json')"
   ]
  },
  {
   "cell_type": "code",
   "execution_count": null,
   "metadata": {
    "scrolled": true
   },
   "outputs": [],
   "source": [
    "df_centroid = gpd.read_file(r'data/values_cntr_janaug.csv')"
   ]
  },
  {
   "cell_type": "code",
   "execution_count": null,
   "metadata": {},
   "outputs": [],
   "source": [
    "crs = {'init': 'epsg:4326'}\n"
   ]
  },
  {
   "cell_type": "code",
   "execution_count": null,
   "metadata": {},
   "outputs": [],
   "source": [
    "df_centroid.head()"
   ]
  },
  {
   "cell_type": "code",
   "execution_count": null,
   "metadata": {
    "scrolled": true
   },
   "outputs": [],
   "source": [
    "df_centroid.drop(columns = 'geometry')\n",
    "df_centroid['geom'] = df_centroid['geom'].apply(wkt.loads)\n",
    "df_centroid['value'] = df_centroid['value'].astype(float)\n",
    "df_centroid = gpd.GeoDataFrame(df_centroid, geometry='geom')\n",
    "df_centroid.head()"
   ]
  },
  {
   "cell_type": "code",
   "execution_count": null,
   "metadata": {},
   "outputs": [],
   "source": [
    "#df_centroid['variable'] = pd.to_datetime(df_centroid['variable'])\n",
    "df_centroid.dtypes"
   ]
  },
  {
   "cell_type": "code",
   "execution_count": null,
   "metadata": {},
   "outputs": [],
   "source": [
    "help(time_series_widget)\n",
    "help(animation_style)"
   ]
  },
  {
   "cell_type": "code",
   "execution_count": null,
   "metadata": {},
   "outputs": [],
   "source": [
    "# using cartoframes to view data in notebook\n",
    "Map([\n",
    "     Layer(df_centroid, size_continuous_style(\n",
    "             'value',\n",
    "             size_range = [4,20],\n",
    "             stroke_color = 'gray', stroke_width = 0.6, opacity = 0.8),\n",
    "             default_widget = True,\n",
    "             title = 'Total Movement out of NYC, March 19th', encode_data = False),\n",
    "     Layer(df_centroid, animation_style(\n",
    "             'value', duration = 40),\n",
    "             widgets = [\n",
    "                 time_series_widget(\n",
    "                 value = 'variable',\n",
    "                 title = 'Movement out of Manhattan to other subplaces',\n",
    "                 description = 'Play, pause, or select a range for the animation')\n",
    "             ]\n",
    "#              range_min = 0,\n",
    "#             range_max = 2000,\n",
    "#             palette = 'teal',\n",
    "#             stroke_color = 'gray', stroke_width = 0.6, opacity = 0.8),\n",
    "#            widgets = [\n",
    "#                animation_widget(\n",
    "#                    title = 'Date',\n",
    "#                    description = 'rabblerabblerabble'\n",
    "    )],\n",
    "          basemaps.darkmatter\n",
    "          )"
   ]
  },
  {
   "cell_type": "code",
   "execution_count": null,
   "metadata": {},
   "outputs": [],
   "source": []
  },
  {
   "cell_type": "code",
   "execution_count": null,
   "metadata": {},
   "outputs": [],
   "source": []
  },
  {
   "cell_type": "code",
   "execution_count": null,
   "metadata": {},
   "outputs": [],
   "source": []
  }
 ],
 "metadata": {
  "kernelspec": {
   "display_name": "Python 3",
   "language": "python",
   "name": "python3"
  },
  "language_info": {
   "codemirror_mode": {
    "name": "ipython",
    "version": 3
   },
   "file_extension": ".py",
   "mimetype": "text/x-python",
   "name": "python",
   "nbconvert_exporter": "python",
   "pygments_lexer": "ipython3",
   "version": "3.7.3"
  }
 },
 "nbformat": 4,
 "nbformat_minor": 2
}
