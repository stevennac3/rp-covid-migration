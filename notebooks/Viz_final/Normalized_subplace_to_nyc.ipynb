{
 "cells": [
  {
   "cell_type": "markdown",
   "metadata": {},
   "source": [
    "## Normalized Region --> NYC (Final Map)"
   ]
  },
  {
   "cell_type": "markdown",
   "metadata": {},
   "source": [
    "#### NB setup"
   ]
  },
  {
   "cell_type": "code",
   "execution_count": 1,
   "metadata": {},
   "outputs": [],
   "source": [
    "import pandas as pd\n",
    "import json\n",
    "import geopandas as gpd\n",
    "import plotly.express as px\n",
    "import os"
   ]
  },
  {
   "cell_type": "code",
   "execution_count": 3,
   "metadata": {},
   "outputs": [
    {
     "data": {
      "text/html": [
       "<style>.container { width:88% !important; }</style>"
      ],
      "text/plain": [
       "<IPython.core.display.HTML object>"
      ]
     },
     "metadata": {},
     "output_type": "display_data"
    }
   ],
   "source": [
    "# make display wider\n",
    "from IPython.core.display import display, HTML\n",
    "display(HTML(\"<style>.container { width:88% !important; }</style>\"))\n",
    "\n",
    "# allow max rows and colums to be displayed\n",
    "pd.set_option('display.max_columns', None)\n",
    "pd.set_option('display.max_rows', None)\n",
    "\n",
    "# set directory explicitly\n",
    "os.chdir(r'C:\\Users\\steve\\GitHub\\rp-covid-migration')"
   ]
  },
  {
   "cell_type": "code",
   "execution_count": null,
   "metadata": {},
   "outputs": [],
   "source": [
    "# read in GeoJSON, convert to geopandas\n",
    "subplaces = r'data/shapefiles/nyc_subplace_centroid.geojson'\n",
    "subplaces = gpd.read_file(subplaces)\n",
    "subplaces.head()"
   ]
  },
  {
   "cell_type": "markdown",
   "metadata": {},
   "source": [
    "#### Read in the returns file, clean up the data for viz"
   ]
  },
  {
   "cell_type": "code",
   "execution_count": null,
   "metadata": {},
   "outputs": [],
   "source": [
    "df = pd.read_csv(r'data/subplxborough/subxnyc_01-10-2020.csv')\n",
    "\n",
    "decimals = 0 # to round to whole num in lambda func below\n",
    "\n",
    "\n",
    "df = df.rename(columns = {'orig_subpl_str':'id'})\n",
    "df['id'] = df['id'].str[1:] # remove the 'U' in the column\n",
    "\n",
    "list_date = df.columns.to_list()\n",
    "list_date = list_date[2:]\n",
    "# melt so we have boroughs as a column.\n",
    "df = pd.melt(df, id_vars=['id','date_y-m-d'], value_vars = list_date)\n",
    "# rename the columns for clarity\n",
    "df = df.rename(columns = {'variable':'Borough','date_y-m-d':'date'})\n",
    "# add explicit borough column -- New York City, Bronx, Brooklyn, Manhattan, Queens, Staten Island\n",
    "# borough_name = {'New York City':'NYC', 'Bronx':'BX', 'Brooklyn':'BK', 'Manhattan':'MN', 'Queens':'QN', 'Staten Island':'SI'}\n",
    "df['Borough'] = df['Borough'].replace({'NYC':'New York City', 'BX':'Bronx', 'BK':'Brooklyn', 'MN':'Manhattan', 'QN':'Queens', 'SI':'Staten Island'})\n",
    "# parse month out of dates\n",
    "new = df[\"date\"].str.split(\"/\", n = 1, expand = True) \n",
    "df[\"month\"]= new[0].astype(int) # convert to integer\n",
    "# remove october dates --- for now, remove this step when you add entire year\n",
    "df = df.drop(df[df.month > 9].index)\n",
    "# convert to date\n",
    "df['date'] = pd.to_datetime(df['date'])\n",
    "# merge with counties\n",
    "df = pd.merge(subplaces, df, left_on='GEOID', right_on='id', how = \"inner\")\n",
    "# set to this date format\n",
    "df['date'] = df[\"date\"].dt.strftime('%m/%d/%Y')\n",
    "# conversions for visualization purposes\n",
    "df['value'] = df['value'].astype(float)\n",
    "df['value'] = df['value'].apply(lambda x: round(x, decimals)) # round to nearest whole num\n",
    "df['value'] = df['value'].astype(int) # remove decimal\n",
    "#remove rows less that are 0, we don't want them to show.\n",
    "df = df.loc[df['value']>=1]\n",
    "df = df.rename(columns = {'NAME':'Name','date':'Date','value':'Returns'})\n",
    "# sort for visualization\n",
    "df = df.sort_values(by = 'Date')\n",
    "# remove entire city\n",
    "df = df[df['Borough'] != 'New York City']\n",
    "# save this cleaned file\n",
    "# df.to_csv(r'data/subplxborough/norm_subplace_x_nyc.csv', index = False)\n",
    "\n",
    "df.head()"
   ]
  },
  {
   "cell_type": "markdown",
   "metadata": {},
   "source": [
    "#### Plotly Visualization"
   ]
  },
  {
   "cell_type": "code",
   "execution_count": 8,
   "metadata": {},
   "outputs": [],
   "source": [
    "df = pd.read_csv(r'data/subplxborough/norm_subplace_x_nyc.csv')\n",
    "df = df.sort_values(by = 'Borough', ascending = True)"
   ]
  },
  {
   "cell_type": "code",
   "execution_count": 9,
   "metadata": {},
   "outputs": [],
   "source": [
    "fig = px.scatter_mapbox(df,# geojson = subplaces, this geojson is not needed if you have lat longs as separate columns in df\n",
    "                     lat = 'INTPTLAT', lon = 'INTPTLON',\n",
    "                     size = 'Returns', # column to reference bubble sizes\n",
    "                     color ='Borough', # change color based on borough\n",
    "                     color_discrete_sequence = ['#CCCCFF','#1D819A','#63BB69','#FFE066','#DE7A3F'], # calling in explicit borough colors we created\n",
    "                     animation_frame = 'Date',\n",
    "                     animation_group = 'Borough',\n",
    "                     hover_data = {'Name':True,'Date':True,'Returns':True, 'INTPTLAT':False, 'INTPTLON':False, 'Borough':False}, # specifying hover data layers\n",
    "                     #font = dict(family = 'Arial', color = 'white'),\n",
    "                     size_max = 60)\n",
    "fig.update_layout(mapbox_zoom = 6.8,\n",
    "                 mapbox_center = {'lat':40.82, 'lon':-74.25},\n",
    "                 mapbox_style=\"carto-darkmatter\",\n",
    "                # size of the viz\n",
    "                 width = 950,\n",
    "                 height = 780, \n",
    "                 font = dict(family = 'Arial', color = 'black'),\n",
    "                 title_font_color = 'white',\n",
    "                # set legend params\n",
    "                 legend=dict(\n",
    "                      title = 'Destination',\n",
    "                      title_font_color = 'white',\n",
    "                      bgcolor = 'black',\n",
    "                      bordercolor = 'gray', borderwidth = 1,\n",
    "                      font = dict(family = 'Arial', color = 'white'),\n",
    "                      yanchor=\"top\",\n",
    "                      y=0.33,\n",
    "                      xanchor=\"left\",\n",
    "                      x=0.02))\n",
    "## THIS IS TO BE ADDED IF STANDALONE VIZ, we are placing in HTML, this is not necessary\n",
    "\n",
    "# TITLE\n",
    "# fig.add_annotation(text = \"Non-NYC Residents' Trips to NYC<br>by Home Municipality\",\n",
    "#                   align = 'left', x = 0.01, y = 0.95, showarrow = False,\n",
    "#                   bordercolor = None,\n",
    "#                   bgcolor = None,\n",
    "#                   font = dict(family = \"Arial\", color = 'white', size = 19))\n",
    "\n",
    "# SUBITILE\n",
    "# fig.add_annotation(text = 'January 1, 2020 to October 31, 2020',\n",
    "#                   align = 'left', x = 0.01, y = 0.86, showarrow = False,\n",
    "#                   bordercolor = None,\n",
    "#                   bgcolor = None,\n",
    "#                   font = dict(family = \"Arial\", color = 'white', size = 13))\n",
    "\n",
    "# EXPLANATORY TEXT\n",
    "fig.add_annotation(text = 'Bubble size = # of Trips',\n",
    "                  align = 'right', x = 0.02, y = 0.01, showarrow=False,\n",
    "                  bordercolor = None, bgcolor = None,\n",
    "                  font = dict(family = 'Droid Sans', color = 'white', size = 12))\n",
    "fig.add_annotation(text = 'Click on/off boroughs in legend to compare or isolate migratory patterns',\n",
    "                  align = 'right', x = 0.02, y = 0.082, showarrow=False,\n",
    "                  bordercolor = None, bgcolor = None,\n",
    "                  font = dict(family = 'Droid Sans', color = 'white', size = 12))\n",
    "# speed this viz up so it doesn't look like crap..\n",
    "fig.layout.updatemenus[0].buttons[0].args[1][\"frame\"][\"duration\"] = 80 \n",
    "# save the HTML, send it on over\n",
    "fig.write_html(r'Maps/html_maps/subplace_to_nyc.html',auto_open = True,auto_play = False, include_plotlyjs = 'cdn')"
   ]
  }
 ],
 "metadata": {
  "kernelspec": {
   "display_name": "Python 3",
   "language": "python",
   "name": "python3"
  },
  "language_info": {
   "codemirror_mode": {
    "name": "ipython",
    "version": 3
   },
   "file_extension": ".py",
   "mimetype": "text/x-python",
   "name": "python",
   "nbconvert_exporter": "python",
   "pygments_lexer": "ipython3",
   "version": "3.7.3"
  }
 },
 "nbformat": 4,
 "nbformat_minor": 2
}
