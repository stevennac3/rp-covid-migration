{
 "cells": [
  {
   "cell_type": "markdown",
   "metadata": {},
   "source": [
    "### Zillow Rental Data Analysis"
   ]
  },
  {
   "cell_type": "code",
   "execution_count": 1,
   "metadata": {},
   "outputs": [],
   "source": [
    "import pandas as pd\n",
    "import json\n",
    "import geopandas as gpd\n",
    "import plotly.express as px\n",
    "import plotly.graph_objects as go\n",
    "import matplotlib.pyplot as plt\n",
    "import matplotlib as mpl\n",
    "import numpy as np\n",
    "# import plotly\n",
    "# import orca\n",
    "import os\n",
    "# plotly.io.orca.config.executable = r'C:\\Users\\steve\\Anaconda3\\pkgs\\plotly-4.10.0-py_0\\site-packages\\plotly\\io\\orca'"
   ]
  },
  {
   "cell_type": "code",
   "execution_count": null,
   "metadata": {},
   "outputs": [],
   "source": [
    "from IPython.core.display import display, HTML\n",
    "display(HTML(\"<style>.container { width:88% !important; }</style>\"))\n",
    "# allow max rows and colums to be displayed\n",
    "pd.set_option('display.max_columns', None)\n",
    "pd.set_option('display.max_rows', None)\n",
    "os.chdir(r'C:\\Users\\steve\\GitHub\\rp-covid-migration')"
   ]
  },
  {
   "cell_type": "code",
   "execution_count": null,
   "metadata": {},
   "outputs": [],
   "source": [
    "# Zilloe Observed Rent Index(ZORI)\n",
    "df = pd.read_csv(r'C:\\Users\\steve\\Documents\\Internship\\Zip_ZORI_AllHomesPlusMultifamily_SSA.csv')"
   ]
  },
  {
   "cell_type": "code",
   "execution_count": null,
   "metadata": {},
   "outputs": [],
   "source": [
    "zips = json.load(open(r'data\\shapefiles\\31CR_ZCTAs.geojson','r'))\n",
    "geozip =  r'data\\shapefiles\\31CR_ZCTAs.geojson'\n",
    "geozip = gpd.read_file(geozip, dtype={\"ZCTA5CE10\": str})\n",
    "# zips2.head()\n",
    "zips['features'][0]"
   ]
  },
  {
   "cell_type": "code",
   "execution_count": null,
   "metadata": {},
   "outputs": [],
   "source": [
    "geozip.plot()"
   ]
  },
  {
   "cell_type": "markdown",
   "metadata": {},
   "source": [
    "## y-o-y % change and net change for january - present "
   ]
  },
  {
   "cell_type": "code",
   "execution_count": null,
   "metadata": {
    "scrolled": false
   },
   "outputs": [],
   "source": [
    "list_date = df.columns.tolist()\n",
    "list_date = list_date[64:85] # 2019 - 2020\n",
    "#list_date = list_date[61:63] # march 1st to march 2nd\n",
    "df = pd.melt(df, id_vars=['RegionName'],value_vars = list_date)\n",
    "# df = df.rename(columns={'NTA':'id'}) #rename so the join ids are the same\n",
    "# df['variable'] = df.variable.str.replace('-','/')\n",
    "gdf = pd.merge(geozip, df, left_on = 'ZipInt', right_on = 'RegionName',how = 'inner')\n",
    "gdf = gdf.drop(columns = {'ALAND10','AWATER10'})\n",
    "\n",
    "# new data frame with split year and day columns value columns \n",
    "new = gdf[\"variable\"].str.split(\"-\", n = 1, expand = True) \n",
    "gdf[\"year\"]= new[0]\n",
    "gdf[\"month\"]= new[1].astype(int) # convert to integer \n",
    "gdf = gdf.drop(gdf[gdf.month > 9].index)\n",
    "gdf.head(21)"
   ]
  },
  {
   "cell_type": "code",
   "execution_count": null,
   "metadata": {},
   "outputs": [],
   "source": [
    "gdf.dtypes"
   ]
  },
  {
   "cell_type": "code",
   "execution_count": null,
   "metadata": {},
   "outputs": [],
   "source": [
    "# year over year change\n",
    "dff = gdf.groupby(['year','GEOID10'], as_index = False\n",
    "                     ).agg(\n",
    "                            {'value':'mean'})\n",
    "dff.head(10)\n",
    "#month over month change\n",
    "dff_month =  gdf.groupby(['year','month','GEOID10'], as_index = False\n",
    "                     ).agg(\n",
    "                            {'value':'mean'})\n",
    "dff_month.head()\n",
    "# def compute_bias(df, sample_col = 'value', pop_col = 'Pop_E'):\n",
    "#     pct = df[sample_col]/df[sample_col].sum()*100 # take one record's candidate devices, divide by total devices within dataset\n",
    "# want to find the Difference(pct) between each `RegionName` from 2019 to 2020..\n",
    "# (zip20-zip19)/zip19 x 100"
   ]
  },
  {
   "cell_type": "code",
   "execution_count": null,
   "metadata": {},
   "outputs": [],
   "source": [
    "# use a pivot table to get 2019 v 2020\n",
    "# dff = dff.pivot_table(values = \"value\", index = 'GEOID10', columns = 'year').reset_index()\n",
    "# dff.head(200)\n",
    "dff_month = dff_month.pivot_table(values = 'value', index= ['GEOID10','month'], columns =['year']).reset_index()\n",
    "# # Drop NA values in year cols\n",
    "dff_month = dff_month.dropna(subset=['2019', '2020'])\n",
    "dff_month.head(100)"
   ]
  },
  {
   "cell_type": "code",
   "execution_count": null,
   "metadata": {},
   "outputs": [],
   "source": [
    "def calcs_zillow(df, y0, y1):\n",
    "    df['yoy_pct'] = ((y1-y0)/y0) *100\n",
    "    df['net_ch'] = y1 - y0\n",
    "    df['net_pct'] = (df['net_ch']/y1)*100\n",
    "calcs_zillow(dff_month, dff_month['2019'], dff_month['2020'])"
   ]
  },
  {
   "cell_type": "code",
   "execution_count": null,
   "metadata": {},
   "outputs": [],
   "source": [
    "dff_month.head()"
   ]
  },
  {
   "cell_type": "code",
   "execution_count": null,
   "metadata": {},
   "outputs": [],
   "source": [
    "dff_month['month'] = dff_month['month'].astype(str)\n",
    "dff_month.dtypes"
   ]
  },
  {
   "cell_type": "code",
   "execution_count": null,
   "metadata": {},
   "outputs": [],
   "source": [
    "dff_month.describe()"
   ]
  },
  {
   "cell_type": "code",
   "execution_count": null,
   "metadata": {},
   "outputs": [],
   "source": [
    "# ISSUE HERE: Map will not iterate by month. Want the 'z' column to take in each month.\n",
    "# currently it seems plot does not change for each png created..\n",
    "months_dict = {'1':'January',\n",
    "               '2':'February',\n",
    "               '3':'March',\n",
    "               '4':'April',\n",
    "               '5':'May',\n",
    "               '6':'June',\n",
    "               '7':'July',\n",
    "               '8':'August',\n",
    "               '9':'September'}\n",
    "legend = 'Year-over-Year<br>% change'\n",
    "def month_maps_zillow(dataframe, month):\n",
    "    fignew = go.Figure(go.Choroplethmapbox(\n",
    "        geojson = zips, locations = dff_month.GEOID10,\n",
    "        featureidkey=\"properties.GEOID10\",\n",
    "        z = dff_month['yoy_pct'],\n",
    "        colorscale = 'RdBu',\n",
    "        marker_line_width = 0.15,\n",
    "        marker_line_color = 'lightgray',\n",
    "        zmin = -30, zmid = 0, zmax = 30,\n",
    "        colorbar_title = legend))\n",
    "    fignew.update_layout(mapbox_zoom = 7.5,\n",
    "                      mapbox_center = {'lat':40.7, 'lon':-73.95},\n",
    "                      mapbox_style=\"carto-darkmatter\",\n",
    "                      width = 1250,\n",
    "                      height = 1080,\n",
    "       #          legend_title_text = '% of NTA Residents',\n",
    "                      legend = dict(yanchor = \"top\", y = 0.6, xanchor = \"left\", x = 0.10))\n",
    "    fignew.add_annotation(text = f'Rent Change, Month of {mn}<br>2019 vs 2020',\n",
    "                         align = 'left', x = 0.03, y = 0.97,\n",
    "                         showarrow = False,\n",
    "                         bordercolor = None,\n",
    "                         bgcolor = 'black',\n",
    "                         font = dict(family = 'Arial', color = 'white', size = 24))\n",
    "    fignew.write_image(f'Maps/Zip_zillow_{mn}.png')\n",
    "# fignew.show()"
   ]
  },
  {
   "cell_type": "code",
   "execution_count": null,
   "metadata": {},
   "outputs": [],
   "source": [
    "for m, mn in months_dict.items():\n",
    "    dataframe = dff_month[dff_month['yoy_pct'].isin([m])]\n",
    "    month_maps_zillow(dataframe, mn)"
   ]
  },
  {
   "cell_type": "code",
   "execution_count": null,
   "metadata": {},
   "outputs": [],
   "source": [
    "fignew = go.Figure(go.Choroplethmapbox(\n",
    "        geojson = zips, locations = dff_month.GEOID10,\n",
    "        featureidkey=\"properties.GEOID10\",\n",
    "        z = dff.yoy_pct,\n",
    "        colorscale = 'RdBu',\n",
    "        marker_line_width = 0.2,\n",
    "        marker_line_color = 'lightgray',\n",
    "        zmin = -25, zmid = 0, zmax = 25,\n",
    "        colorbar_title = 'Year-over-Year<br>% change'))\n",
    "fignew.update_layout(mapbox_zoom = 6.45,\n",
    "                      mapbox_center = {'lat':40.7, 'lon':-73.95},\n",
    "                      mapbox_style=\"carto-darkmatter\",\n",
    "                      width = 950,\n",
    "                      height = 780,\n",
    "       #          legend_title_text = '% of NTA Residents',\n",
    "                      legend = dict(yanchor = \"top\", y = 0.6, xanchor = \"left\", x = 0.10))\n",
    "fignew.show()"
   ]
  },
  {
   "cell_type": "code",
   "execution_count": null,
   "metadata": {},
   "outputs": [],
   "source": []
  },
  {
   "cell_type": "code",
   "execution_count": null,
   "metadata": {},
   "outputs": [],
   "source": [
    "# ['yoy_pct'] = pct_change(avg_yoy, avg_yoy['2019'], avg_yoy['2020'])\n",
    "# avg_yoy.head(10)\n",
    "dff['yoy_pct'] = ((dff['2020']-dff['2019'])/dff['2019'])*100\n",
    "dff['net_change'] = dff['2020']-dff['2019']\n",
    "dff['net_pct'] = (dff['net_change']/dff['2020'])*100"
   ]
  },
  {
   "cell_type": "code",
   "execution_count": null,
   "metadata": {},
   "outputs": [],
   "source": [
    "dff.describe()"
   ]
  },
  {
   "cell_type": "code",
   "execution_count": null,
   "metadata": {
    "scrolled": true
   },
   "outputs": [],
   "source": [
    "fignew = go.Figure(go.Choroplethmapbox(\n",
    "        geojson = zips, locations = dff.GEOID10,\n",
    "        featureidkey=\"properties.GEOID10\",\n",
    "        z = dff.yoy_pct,\n",
    "        colorscale = 'RdBu',\n",
    "        marker_line_width = 0.2,\n",
    "        marker_line_color = 'lightgray',\n",
    "        zmin = -25, zmid = 0, zmax = 25,\n",
    "        colorbar_title = 'Year-over-Year<br>% change'))\n",
    "fignew.update_layout(mapbox_zoom = 6.45,\n",
    "                      mapbox_center = {'lat':40.7, 'lon':-73.95},\n",
    "                      mapbox_style=\"carto-darkmatter\",\n",
    "                      width = 950,\n",
    "                      height = 780,\n",
    "       #          legend_title_text = '% of NTA Residents',\n",
    "                      legend = dict(yanchor = \"top\", y = 0.6, xanchor = \"left\", x = 0.10))\n",
    "fignew.show()"
   ]
  },
  {
   "cell_type": "code",
   "execution_count": null,
   "metadata": {
    "scrolled": true
   },
   "outputs": [],
   "source": [
    "# gdf\n",
    "fig = px.choropleth_mapbox(dff_month, geojson = zips,\n",
    "                  locations ='GEOID10',\n",
    "                  featureidkey=\"properties.GEOID10\", # you can also rename this to ID in properties\n",
    "                     color = 'yoy_pct',\n",
    "                    animation_frame ='month',\n",
    "                     color_continuous_scale = \"RdBu\",\n",
    "#                      marker_line_width=0\n",
    "#                    labels={'percent_away':'% of Residents', 'id':'NTA Code'},\n",
    "                     range_color = [-30,30])\n",
    "fig.update_layout(mapbox_zoom = 9.45,\n",
    "                      mapbox_center = {'lat':40.7, 'lon':-73.95},\n",
    "                      mapbox_style=\"carto-darkmatter\",\n",
    "                      width = 950,\n",
    "                      height = 780,\n",
    "       #          legend_title_text = '% of NTA Residents',\n",
    "                      legend = dict(yanchor = \"top\", y = 0.6, xanchor = \"left\", x = 0.10))\n",
    "fig.show()"
   ]
  }
 ],
 "metadata": {
  "kernelspec": {
   "display_name": "Python 3",
   "language": "python",
   "name": "python3"
  },
  "language_info": {
   "codemirror_mode": {
    "name": "ipython",
    "version": 3
   },
   "file_extension": ".py",
   "mimetype": "text/x-python",
   "name": "python",
   "nbconvert_exporter": "python",
   "pygments_lexer": "ipython3",
   "version": "3.7.3"
  }
 },
 "nbformat": 4,
 "nbformat_minor": 2
}
